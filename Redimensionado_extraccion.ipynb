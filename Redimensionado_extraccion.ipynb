{
  "cells": [
    {
      "cell_type": "code",
      "execution_count": null,
      "metadata": {
        "id": "kO5RORNduAqY"
      },
      "outputs": [],
      "source": [
        "#!pip install --upgrade tensorflow\n",
        "#!pip install retina-face\n",
        "#!pip install tensorflow==2.8.0\n",
        "from google.colab import drive\n",
        "import os\n",
        "import cv2\n",
        "import numpy as np\n",
        "from retinaface import RetinaFace\n",
        "import cv2\n",
        "%matplotlib inline"
      ]
    },
    {
      "cell_type": "code",
      "execution_count": null,
      "metadata": {
        "id": "ECKHaMYIt64T"
      },
      "outputs": [],
      "source": [
        "#Redimensionado de imágenes\n",
        "drive.mount('/content/drive')\n",
        "\n",
        "\n",
        "nueva_altura = 224\n",
        "nuevo_ancho = 224\n",
        "\n",
        "# Rutas a las carpetas que contienen las imágenes en Google Drive\n",
        "ruta_carpeta_con_sueno = '/content/drive/My Drive/Fatigue_Subjects'\n",
        "ruta_carpeta_sin_sueno = '/content/drive/My Drive/Active_Subjects'\n",
        "\n",
        "# Directorio de salida para las imágenes redimensionadas\n",
        "ruta_salida_con_sueno = '/content/drive/My Drive/Dataset_2_ext/1_Con_sueño_redimensionado'\n",
        "ruta_salida_sin_sueno = '/content/drive/My Drive/Dataset_2_ext/0_Sin_sueño_redimensionado'\n",
        "\n",
        "# Crear directorios de salida si no existen\n",
        "os.makedirs(ruta_salida_con_sueno, exist_ok=True)\n",
        "\n",
        "os.makedirs(ruta_salida_sin_sueno, exist_ok=True)\n",
        "\n",
        "# Función para redimensionar imágenes en una carpeta y guardarlas en otra\n",
        "def redimensionar_imagenes(ruta_entrada, ruta_salida, nueva_altura, nuevo_ancho):\n",
        "    for archivo in os.listdir(ruta_entrada):\n",
        "        ruta_entrada_archivo = os.path.join(ruta_entrada, archivo)\n",
        "        ruta_salida_archivo = os.path.join(ruta_salida, archivo)\n",
        "\n",
        "        # Leer la imagen\n",
        "        imagen = cv2.imread(ruta_entrada_archivo)\n",
        "\n",
        "\n",
        "        # Extraer caras con RetinaFace\n",
        "        faces = RetinaFace.extract_faces(imagen, threshold=0.8)\n",
        "\n",
        "        # Mostrar cada cara extraída\n",
        "        for i, face in enumerate(faces):\n",
        "\n",
        "            h, w = face.shape[:2]\n",
        "\n",
        "            # Calcular el nuevo tamaño manteniendo la relación de aspecto original\n",
        "            #if h < w:\n",
        "                #nueva_altura_temp = int(nueva_altura * (h / w))\n",
        "                #nuevo_ancho_temp = nuevo_ancho\n",
        "            #else:\n",
        "                #nueva_altura_temp = nueva_altura\n",
        "                #nuevo_ancho_temp = int(nuevo_ancho * (w / h))\n",
        "\n",
        "            # Redimensionar la imagen manteniendo la relación de aspecto\n",
        "            #imagen_redimensionada = cv2.resize(face, (nuevo_ancho, nueva_altura))\n",
        "\n",
        "            # Crear una imagen en blanco del tamaño objetivo\n",
        "            imagen_final = np.zeros((nueva_altura, nuevo_ancho, 3), dtype=np.uint8)\n",
        "\n",
        "            # Calcular las coordenadas para copiar la imagen redimensionada en el centro\n",
        "            y_offset = (nueva_altura - h) // 2\n",
        "            x_offset = (nuevo_ancho - w) // 2\n",
        "\n",
        "            # Copiar la región redimensionada en la ubicación calculada\n",
        "            imagen_final[y_offset:y_offset + h, x_offset:x_offset + w] = face\n",
        "\n",
        "            # Guardar la imagen redimensionada\n",
        "            cv2.imwrite(ruta_salida_archivo, imagen_final)\n",
        "\n",
        "            imagen_final = cv2.cvtColor(imagen_final, cv2.COLOR_BGR2RGB)\n",
        "\n",
        "# Redimensionar imágenes en las carpetas de entrada y guardarlas en las carpetas de salida\n",
        "redimensionar_imagenes(ruta_carpeta_con_sueno, ruta_salida_con_sueno, nueva_altura, nuevo_ancho)\n",
        "redimensionar_imagenes(ruta_carpeta_sin_sueno, ruta_salida_sin_sueno, nueva_altura, nuevo_ancho)"
      ]
    },
    {
      "cell_type": "code",
      "execution_count": null,
      "metadata": {
        "id": "nI7OjqCFF4GR"
      },
      "outputs": [],
      "source": []
    },
    {
      "cell_type": "code",
      "execution_count": null,
      "metadata": {
        "id": "Z0-qobuvF3-a"
      },
      "outputs": [],
      "source": []
    },
    {
      "cell_type": "code",
      "execution_count": null,
      "metadata": {
        "id": "cg3ZF9YbF361"
      },
      "outputs": [],
      "source": []
    },
    {
      "cell_type": "code",
      "execution_count": null,
      "metadata": {
        "id": "aCm1dMFxF33K"
      },
      "outputs": [],
      "source": []
    },
    {
      "cell_type": "code",
      "execution_count": null,
      "metadata": {
        "id": "Q_R9lM3RF3zH"
      },
      "outputs": [],
      "source": []
    },
    {
      "cell_type": "code",
      "execution_count": null,
      "metadata": {
        "id": "dIegEeTxF3vV"
      },
      "outputs": [],
      "source": []
    }
  ],
  "metadata": {
    "colab": {
      "provenance": [],
      "gpuType": "V100"
    },
    "kernelspec": {
      "display_name": "Python 3",
      "name": "python3"
    },
    "language_info": {
      "name": "python"
    },
    "accelerator": "GPU"
  },
  "nbformat": 4,
  "nbformat_minor": 0
}