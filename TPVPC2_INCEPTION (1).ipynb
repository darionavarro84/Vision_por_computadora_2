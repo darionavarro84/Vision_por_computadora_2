{
  "cells": [
    {
      "cell_type": "code",
      "execution_count": 24,
      "metadata": {
        "colab": {
          "base_uri": "https://localhost:8080/"
        },
        "id": "8FTl_J4jTFC6",
        "outputId": "80142551-3a71-4c51-f655-848f2b503d67"
      },
      "outputs": [
        {
          "name": "stdout",
          "output_type": "stream",
          "text": [
            "f:\\Documentos\\UBA\\Nueva carpeta\\Vision_por_computadora_2\\Dataset_2\n"
          ]
        }
      ],
      "source": [
        "from keras.applications import InceptionV3\n",
        "from keras.models import Sequential\n",
        "from keras.layers import Dense, Flatten, Dropout\n",
        "from keras.optimizers import Adam\n",
        "from tensorflow.keras.preprocessing.image import ImageDataGenerator\n",
        "from sklearn.metrics import classification_report\n",
        "from sklearn.metrics import accuracy_score, recall_score, f1_score\n",
        "\n",
        "import matplotlib.pyplot as plt\n",
        "#from google.colab import drive\n",
        "import tensorflow as tf\n",
        "from keras.models import load_model\n",
        "from keras.callbacks import ModelCheckpoint\n",
        "import os\n",
        "import numpy as np\n",
        "import cv2\n",
        "\n",
        "IsGoogleDrive=False\n",
        "projectPath=os.getcwd()\n",
        "if(IsGoogleDrive):\n",
        "    checkpoint_path = '/content/drive/My Drive/model_checkpoint_resnet.keras'\n",
        "    training_path= '/content/drive/MyDrive/Dataset_2/'\n",
        "else:\n",
        "    checkpoint_path  = os.path.join(projectPath,'model_checkpoint_resnet.keras')\n",
        "    training_path= os.path.join(projectPath,'Dataset_2')\n",
        "print(training_path)\n",
        "#Cargo el modelo desde el último check"
      ]
    },
    {
      "cell_type": "code",
      "execution_count": 25,
      "metadata": {
        "colab": {
          "base_uri": "https://localhost:8080/"
        },
        "id": "5D3NECcBTE_L",
        "outputId": "1cf554ca-bc6a-41d5-fcec-de402f69dcce"
      },
      "outputs": [
        {
          "name": "stdout",
          "output_type": "stream",
          "text": [
            "Found 6851 images belonging to 2 classes.\n",
            "Found 1711 images belonging to 2 classes.\n",
            "Epoch 11/12\n"
          ]
        },
        {
          "name": "stderr",
          "output_type": "stream",
          "text": [
            "C:\\Users\\Luli Santacruz\\AppData\\Local\\Packages\\PythonSoftwareFoundation.Python.3.11_qbz5n2kfra8p0\\LocalCache\\local-packages\\Python311\\site-packages\\keras\\src\\trainers\\data_adapters\\py_dataset_adapter.py:121: UserWarning: Your `PyDataset` class should call `super().__init__(**kwargs)` in its constructor. `**kwargs` can include `workers`, `use_multiprocessing`, `max_queue_size`. Do not pass these arguments to `fit()`, as they will be ignored.\n",
            "  self._warn_if_super_not_called()\n"
          ]
        },
        {
          "name": "stdout",
          "output_type": "stream",
          "text": [
            "\u001b[1m857/857\u001b[0m \u001b[32m━━━━━━━━━━━━━━━━━━━━\u001b[0m\u001b[37m\u001b[0m \u001b[1m193s\u001b[0m 217ms/step - accuracy: 0.7669 - loss: 0.5657 - val_accuracy: 0.8778 - val_loss: 0.2800\n",
            "Epoch 12/12\n",
            "\u001b[1m857/857\u001b[0m \u001b[32m━━━━━━━━━━━━━━━━━━━━\u001b[0m\u001b[37m\u001b[0m \u001b[1m187s\u001b[0m 218ms/step - accuracy: 0.8802 - loss: 0.2867 - val_accuracy: 0.8673 - val_loss: 0.2708\n"
          ]
        }
      ],
      "source": [
        "# Paso 1: Cargo el modelo InceptionV3 preentrenado sin las capas densas\n",
        "base_model = InceptionV3(weights='imagenet', include_top=False, input_shape=(224, 224, 3))\n",
        "\n",
        "# Paso 2: Congelo las capas convolucionales preentrenadas para evitar que se actualicen durante el entrenamiento\n",
        "for layer in base_model.layers:\n",
        "    layer.trainable = False\n",
        "\n",
        "# Paso 3: Creo un modelo secuencial y agregar el modelo VGG16 preentrenado\n",
        "model = Sequential()\n",
        "model.add(base_model)\n",
        "\n",
        "# Paso 4: Agrego capas densas personalizadas para la clasificación binaria\n",
        "model.add(Flatten())\n",
        "model.add(Dense(256, activation='relu'))\n",
        "model.add(Dropout(0.5))\n",
        "model.add(Dense(1, activation='sigmoid'))  # Capa de salida para clasificación binaria\n",
        "\n",
        "\n",
        "checkpoint = ModelCheckpoint(checkpoint_path, save_best_only=True)\n",
        "\n",
        "# Paso 5: Compilo el modelo\n",
        "model.compile(optimizer=Adam(learning_rate=0.0001), loss='binary_crossentropy', metrics=['accuracy'])\n",
        "\n",
        "batch_size = 8\n",
        "\n",
        "# Paso 6: Preparo el generador de datos de aumento y cargar datos\n",
        "datagen = ImageDataGenerator(\n",
        "    rescale=1./255,\n",
        "    validation_split=0.2,\n",
        "    shear_range=0.1,\n",
        "    zoom_range=0.1,\n",
        "    horizontal_flip=True\n",
        ")\n",
        "\n",
        "train_generator = datagen.flow_from_directory(\n",
        "    training_path,  # Directorio de datos de entrenamiento\n",
        "    target_size=(224, 224),\n",
        "    batch_size=batch_size,\n",
        "    class_mode='binary',\n",
        "    subset='training'\n",
        ")\n",
        "\n",
        "\n",
        "validation_generator = datagen.flow_from_directory(\n",
        "    training_path,  # Directorio de datos de validación\n",
        "    target_size=(224, 224),\n",
        "    batch_size=batch_size,\n",
        "    class_mode='binary',\n",
        "    subset='validation'\n",
        ")\n",
        "\n",
        "# Paso 7: Entreno el modelo con transfer learning\n",
        "history = model.fit(train_generator, epochs=12, validation_data=validation_generator, callbacks=[checkpoint], initial_epoch=10)"
      ]
    },
    {
      "cell_type": "code",
      "execution_count": 33,
      "metadata": {
        "colab": {
          "base_uri": "https://localhost:8080/",
          "height": 393
        },
        "id": "wmb7VczXrqHM",
        "outputId": "87f4e56d-a4b8-40fa-8523-4c45f388cf68"
      },
      "outputs": [
        {
          "data": {
            "image/png": "[encoded data removed]",
            "text/plain": [
              "<Figure size 1200x400 with 1 Axes>"
            ]
          },
          "metadata": {},
          "output_type": "display_data"
        }
      ],
      "source": [
        "train_accuracy = history.history['accuracy']\n",
        "val_accuracy = history.history['val_accuracy']\n",
        "\n",
        "# Graficar las curvas de precisión\n",
        "plt.figure(figsize=(12, 4))\n",
        "plt.subplot(1, 2, 1)\n",
        "plt.plot(train_accuracy, label='Train Accuracy')\n",
        "plt.plot(val_accuracy, label='Validation Accuracy')\n",
        "plt.ylim(0, 1)\n",
        "plt.xlabel('Epochs')\n",
        "plt.ylabel('Accuracy')\n",
        "plt.legend()\n",
        "plt.show()"
      ]
    },
    {
      "cell_type": "code",
      "execution_count": 34,
      "metadata": {
        "id": "lsNLQgksTE7F"
      },
      "outputs": [],
      "source": [
        "model.save(os.path.join(projectPath,'Saved_model_Inception','Saved_model_Inception.keras'))\n",
        "#model.save(os.path.join(projectPath,'Saved_model_Inception'), save_format='tf')"
      ]
    },
    {
      "cell_type": "code",
      "execution_count": 35,
      "metadata": {
        "id": "5uzKPKBMZuD7"
      },
      "outputs": [],
      "source": [
        "#model = load_model('/content/drive/MyDrive/Saved_model_Inception')\n",
        "#modelo.summary()"
      ]
    },
    {
      "cell_type": "code",
      "execution_count": 36,
      "metadata": {
        "id": "KrOA8bg8TE21"
      },
      "outputs": [],
      "source": [
        "model.save(os.path.join(projectPath,'mi_modelo_inception.keras'))"
      ]
    },
    {
      "cell_type": "code",
      "execution_count": 37,
      "metadata": {
        "id": "n7nqLLhzXr3m"
      },
      "outputs": [],
      "source": [
        "#modelo_cargado = load_model('/content/drive/MyDrive/mi_modelo_inception.keras')"
      ]
    },
    {
      "cell_type": "code",
      "execution_count": 38,
      "metadata": {
        "id": "Wop5NbdATEzE"
      },
      "outputs": [],
      "source": [
        "#Defino función de predicción\n",
        "def prediccion(modelo,imagen,treshold):\n",
        "\n",
        "    # Reshape para que coincida con el formato de entrada del modelo\n",
        "\n",
        "     nueva_altura = 224\n",
        "     nuevo_ancho = 224\n",
        "\n",
        "     h, w = imagen.shape[:2]\n",
        "\n",
        "    # Calcular el nuevo tamaño manteniendo la relación de aspecto original\n",
        "     if h < w:\n",
        "          nueva_altura_temp = int(nueva_altura * (h / w))\n",
        "          nuevo_ancho_temp = nuevo_ancho\n",
        "     else:\n",
        "          nueva_altura_temp = nueva_altura\n",
        "          nuevo_ancho_temp = int(nuevo_ancho * (w / h))\n",
        "\n",
        "     imagen_redimensionada = cv2.resize(imagen,(nuevo_ancho_temp , nueva_altura_temp))\n",
        "\n",
        "     imagen_redimensionada = imagen_redimensionada / 255.0\n",
        "\n",
        "     # Crear una imagen en blanco del tamaño objetivo\n",
        "     imagen_final = np.zeros((nueva_altura, nuevo_ancho, 3), dtype=np.uint8)\n",
        "\n",
        "     # Calcular las coordenadas para copiar la imagen redimensionada en el centro\n",
        "     y_offset = (nueva_altura - nueva_altura_temp) // 2\n",
        "     x_offset = (nuevo_ancho - nuevo_ancho_temp) // 2\n",
        "\n",
        "     # Copiar la región redimensionada en la ubicación calculada\n",
        "     imagen_final[y_offset:y_offset + nueva_altura_temp, x_offset:x_offset + nuevo_ancho_temp] = imagen_redimensionada\n",
        "\n",
        "     imagen_final = np.expand_dims(imagen_final, axis=0)\n",
        "\n",
        "\n",
        "     # Realizar predicciones\n",
        "     prediccion_imagen = modelo.predict(imagen_final)\n",
        "\n",
        "     if prediccion_imagen < treshold:\n",
        "          print(prediccion_imagen)\n",
        "          return \"La persona tiene sueño\"\n",
        "     else:\n",
        "          print(prediccion_imagen)\n",
        "          return \"La persona no tiene sueño\"\n",
        "\n"
      ]
    },
    {
      "cell_type": "code",
      "execution_count": 40,
      "metadata": {
        "colab": {
          "base_uri": "https://localhost:8080/",
          "height": 1000
        },
        "id": "zNCLkdYVTEv1",
        "outputId": "b4e2b69a-f21a-4da8-d09a-fd43d87ae924"
      },
      "outputs": [
        {
          "ename": "AttributeError",
          "evalue": "'NoneType' object has no attribute 'shape'",
          "output_type": "error",
          "traceback": [
            "\u001b[1;31m---------------------------------------------------------------------------\u001b[0m",
            "\u001b[1;31mAttributeError\u001b[0m                            Traceback (most recent call last)",
            "\u001b[1;32mf:\\Documentos\\UBA\\Nueva carpeta\\Vision_por_computadora_2\\TPVPC2_INCEPTION (1).ipynb Cell 9\u001b[0m line \u001b[0;36m1\n\u001b[0;32m     <a href='vscode-notebook-cell:/f%3A/Documentos/UBA/Nueva%20carpeta/Vision_por_computadora_2/TPVPC2_INCEPTION%20%281%29.ipynb#X11sZmlsZQ%3D%3D?line=14'>15</a>\u001b[0m \u001b[39m#Realizo predicciones\u001b[39;00m\n\u001b[0;32m     <a href='vscode-notebook-cell:/f%3A/Documentos/UBA/Nueva%20carpeta/Vision_por_computadora_2/TPVPC2_INCEPTION%20%281%29.ipynb#X11sZmlsZQ%3D%3D?line=15'>16</a>\u001b[0m \u001b[39mfor\u001b[39;00m imagen, ruta \u001b[39min\u001b[39;00m \u001b[39mzip\u001b[39m(imagenes, rutas_imagenes):\n\u001b[0;32m     <a href='vscode-notebook-cell:/f%3A/Documentos/UBA/Nueva%20carpeta/Vision_por_computadora_2/TPVPC2_INCEPTION%20%281%29.ipynb#X11sZmlsZQ%3D%3D?line=16'>17</a>\u001b[0m     \u001b[39m# Realizar la predicción\u001b[39;00m\n\u001b[1;32m---> <a href='vscode-notebook-cell:/f%3A/Documentos/UBA/Nueva%20carpeta/Vision_por_computadora_2/TPVPC2_INCEPTION%20%281%29.ipynb#X11sZmlsZQ%3D%3D?line=17'>18</a>\u001b[0m     pred \u001b[39m=\u001b[39m prediccion(model, imagen, \u001b[39m0.8\u001b[39;49m)\n\u001b[0;32m     <a href='vscode-notebook-cell:/f%3A/Documentos/UBA/Nueva%20carpeta/Vision_por_computadora_2/TPVPC2_INCEPTION%20%281%29.ipynb#X11sZmlsZQ%3D%3D?line=18'>19</a>\u001b[0m     \u001b[39m# Mostrar la imagen con el resultado de la predicción\u001b[39;00m\n\u001b[0;32m     <a href='vscode-notebook-cell:/f%3A/Documentos/UBA/Nueva%20carpeta/Vision_por_computadora_2/TPVPC2_INCEPTION%20%281%29.ipynb#X11sZmlsZQ%3D%3D?line=19'>20</a>\u001b[0m     plt\u001b[39m.\u001b[39mimshow(cv2\u001b[39m.\u001b[39mcvtColor(imagen, cv2\u001b[39m.\u001b[39mCOLOR_BGR2RGB))\n",
            "\u001b[1;32mf:\\Documentos\\UBA\\Nueva carpeta\\Vision_por_computadora_2\\TPVPC2_INCEPTION (1).ipynb Cell 9\u001b[0m line \u001b[0;36m9\n\u001b[0;32m      <a href='vscode-notebook-cell:/f%3A/Documentos/UBA/Nueva%20carpeta/Vision_por_computadora_2/TPVPC2_INCEPTION%20%281%29.ipynb#X11sZmlsZQ%3D%3D?line=5'>6</a>\u001b[0m  nueva_altura \u001b[39m=\u001b[39m \u001b[39m224\u001b[39m\n\u001b[0;32m      <a href='vscode-notebook-cell:/f%3A/Documentos/UBA/Nueva%20carpeta/Vision_por_computadora_2/TPVPC2_INCEPTION%20%281%29.ipynb#X11sZmlsZQ%3D%3D?line=6'>7</a>\u001b[0m  nuevo_ancho \u001b[39m=\u001b[39m \u001b[39m224\u001b[39m\n\u001b[1;32m----> <a href='vscode-notebook-cell:/f%3A/Documentos/UBA/Nueva%20carpeta/Vision_por_computadora_2/TPVPC2_INCEPTION%20%281%29.ipynb#X11sZmlsZQ%3D%3D?line=8'>9</a>\u001b[0m  h, w \u001b[39m=\u001b[39m imagen\u001b[39m.\u001b[39;49mshape[:\u001b[39m2\u001b[39m]\n\u001b[0;32m     <a href='vscode-notebook-cell:/f%3A/Documentos/UBA/Nueva%20carpeta/Vision_por_computadora_2/TPVPC2_INCEPTION%20%281%29.ipynb#X11sZmlsZQ%3D%3D?line=10'>11</a>\u001b[0m \u001b[39m# Calcular el nuevo tamaño manteniendo la relación de aspecto original\u001b[39;00m\n\u001b[0;32m     <a href='vscode-notebook-cell:/f%3A/Documentos/UBA/Nueva%20carpeta/Vision_por_computadora_2/TPVPC2_INCEPTION%20%281%29.ipynb#X11sZmlsZQ%3D%3D?line=11'>12</a>\u001b[0m  \u001b[39mif\u001b[39;00m h \u001b[39m<\u001b[39m w:\n",
            "\u001b[1;31mAttributeError\u001b[0m: 'NoneType' object has no attribute 'shape'"
          ]
        }
      ],
      "source": [
        "#Cargo imágenes a testear\n",
        "\n",
        "# Directorio en Google Drive que contiene las imágenes\n",
        "directorio_drive = os.path.join(projectPath,'Imágenes de prueba','Con sueño')\n",
        "\n",
        "# Obtener la lista de nombres de archivos en el directorio\n",
        "nombres_archivos = os.listdir(directorio_drive)\n",
        "\n",
        "# Filtrar solo los archivos de imagen (puedes ajustar según los tipos de archivos que tengas)\n",
        "extensiones_imagen = ['.jpg', '.jpeg', '.png']\n",
        "rutas_imagenes = [os.path.join(directorio_drive, archivo) for archivo in nombres_archivos if any(archivo.lower().endswith(ext) for ext in extensiones_imagen)]\n",
        "\n",
        "imagenes = [cv2.imread(ruta) for ruta in rutas_imagenes]\n",
        "\n",
        "#Realizo predicciones\n",
        "for imagen, ruta in zip(imagenes, rutas_imagenes):\n",
        "    # Realizar la predicción\n",
        "    pred = prediccion(model, imagen, 0.8)\n",
        "    # Mostrar la imagen con el resultado de la predicción\n",
        "    plt.imshow(cv2.cvtColor(imagen, cv2.COLOR_BGR2RGB))\n",
        "    plt.title(f'Predicción: {pred}')\n",
        "    plt.show()"
      ]
    }
  ],
  "metadata": {
    "accelerator": "GPU",
    "colab": {
      "gpuType": "T4",
      "provenance": []
    },
    "kernelspec": {
      "display_name": "Python 3",
      "name": "python3"
    },
    "language_info": {
      "codemirror_mode": {
        "name": "ipython",
        "version": 3
      },
      "file_extension": ".py",
      "mimetype": "text/x-python",
      "name": "python",
      "nbconvert_exporter": "python",
      "pygments_lexer": "ipython3",
      "version": "3.11.7"
    }
  },
  "nbformat": 4,
  "nbformat_minor": 0
}
