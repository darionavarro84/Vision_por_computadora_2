{
  "cells": [
    {
      "cell_type": "code",
      "execution_count": 1,
      "metadata": {
        "colab": {
          "base_uri": "https://localhost:8080/"
        },
        "id": "8FTl_J4jTFC6",
        "outputId": "dad8adc3-71fb-458c-87e0-8c6748d7acee"
      },
      "outputs": [
        {
          "name": "stdout",
          "output_type": "stream",
          "text": [
            "WARNING:tensorflow:From C:\\Users\\Luli Santacruz\\AppData\\Local\\Packages\\PythonSoftwareFoundation.Python.3.11_qbz5n2kfra8p0\\LocalCache\\local-packages\\Python311\\site-packages\\keras\\src\\losses.py:2976: The name tf.losses.sparse_softmax_cross_entropy is deprecated. Please use tf.compat.v1.losses.sparse_softmax_cross_entropy instead.\n",
            "\n",
            "f:\\Documentos\\UBA\\Nueva carpeta\\Vision_por_computadora_2\\Dataset_2\n"
          ]
        }
      ],
      "source": [
        "from tensorflow.keras.applications import VGG16\n",
        "from tensorflow.keras.models import Sequential\n",
        "from tensorflow.keras.layers import Dense, Flatten, Dropout\n",
        "from tensorflow.keras.optimizers import Adam\n",
        "from tensorflow.keras.preprocessing.image import ImageDataGenerator\n",
        "import matplotlib.pyplot as plt\n",
        "#from google.colab import drive\n",
        "import tensorflow as tf\n",
        "from tensorflow.keras.models import load_model\n",
        "from tensorflow.keras.callbacks import ModelCheckpoint\n",
        "import os\n",
        "import numpy as np\n",
        "import cv2\n",
        "import scipy\n",
        "\n",
        "\n",
        "\n",
        "# Monto Google Drive en el entorno de Google Colab\n",
        "#drive.mount('/content/drive')\n",
        "# Defino un punto de control para guardar el modelo\n",
        "IsGoogleDrive=False\n",
        "\n",
        "if(IsGoogleDrive):\n",
        "    checkpoint_path = '/content/drive/My Drive/model_checkpoint.h5'\n",
        "    training_path= '/content/drive/MyDrive/Dataset_2/'\n",
        "else:\n",
        "    checkpoint_path  = os.getcwd()+'\\model_checkpoint.h5'\n",
        "    training_path= os.getcwd()+'\\Dataset_2'\n",
        "print(training_path)\n",
        "#Cargo el modelo desde el último check"
      ]
    },
    {
      "cell_type": "code",
      "execution_count": 6,
      "metadata": {
        "colab": {
          "base_uri": "https://localhost:8080/"
        },
        "id": "5D3NECcBTE_L",
        "outputId": "cb2f1ffa-be08-4f86-b719-a6848eea1ee8"
      },
      "outputs": [
        {
          "name": "stdout",
          "output_type": "stream",
          "text": [
            "Found 6851 images belonging to 2 classes.\n",
            "Found 1711 images belonging to 2 classes.\n",
            "Running on CPU\n",
            "Epoch 6/10\n",
            "108/108 [==============================] - ETA: 0s - loss: 0.4562 - accuracy: 0.7841"
          ]
        },
        {
          "name": "stderr",
          "output_type": "stream",
          "text": [
            "C:\\Users\\Luli Santacruz\\AppData\\Local\\Packages\\PythonSoftwareFoundation.Python.3.11_qbz5n2kfra8p0\\LocalCache\\local-packages\\Python311\\site-packages\\keras\\src\\engine\\training.py:3103: UserWarning: You are saving your model as an HDF5 file via `model.save()`. This file format is considered legacy. We recommend using instead the native Keras format, e.g. `model.save('my_model.keras')`.\n",
            "  saving_api.save_model(\n"
          ]
        },
        {
          "name": "stdout",
          "output_type": "stream",
          "text": [
            "108/108 [==============================] - 359s 3s/step - loss: 0.4562 - accuracy: 0.7841 - val_loss: 0.3724 - val_accuracy: 0.8416\n",
            "Epoch 7/10\n",
            "108/108 [==============================] - 357s 3s/step - loss: 0.3156 - accuracy: 0.8606 - val_loss: 0.3232 - val_accuracy: 0.8515\n",
            "Epoch 8/10\n",
            "108/108 [==============================] - 352s 3s/step - loss: 0.2798 - accuracy: 0.8824 - val_loss: 0.3140 - val_accuracy: 0.8603\n",
            "Epoch 9/10\n",
            "108/108 [==============================] - 352s 3s/step - loss: 0.2490 - accuracy: 0.8981 - val_loss: 0.2760 - val_accuracy: 0.8819\n",
            "Epoch 10/10\n",
            "108/108 [==============================] - 352s 3s/step - loss: 0.2399 - accuracy: 0.9019 - val_loss: 0.2821 - val_accuracy: 0.8732\n"
          ]
        }
      ],
      "source": [
        "import scipy\n",
        "\n",
        "# Paso 1: Cargo el modelo VGG16 preentrenado sin las capas densas\n",
        "base_model = VGG16(weights='imagenet', include_top=False, input_shape=(224, 224, 3))\n",
        "\n",
        "# Paso 2: Congelo las capas convolucionales preentrenadas para evitar que se actualicen durante el entrenamiento\n",
        "for layer in base_model.layers:\n",
        "    layer.trainable = False\n",
        "\n",
        "# Paso 3: Creo un modelo secuencial y agregar el modelo VGG16 preentrenado\n",
        "model = Sequential()\n",
        "model.add(base_model)\n",
        "\n",
        "# Paso 4: Agrego capas densas personalizadas para la clasificación binaria\n",
        "model.add(Flatten())\n",
        "model.add(Dense(256, activation='relu'))\n",
        "model.add(Dropout(0.5))\n",
        "model.add(Dense(1, activation='sigmoid'))  # Capa de salida para clasificación binaria\n",
        "\n",
        "\n",
        "\n",
        "checkpoint = ModelCheckpoint(checkpoint_path, save_best_only=True)\n",
        "\n",
        "# Paso 5: Compilo el modelo\n",
        "model.compile(optimizer=Adam(learning_rate=0.0001), loss='binary_crossentropy', metrics=['accuracy'])\n",
        "\n",
        "batch_size = 64\n",
        "\n",
        "# Paso 6: Preparo el generador de datos de aumento y cargar datos\n",
        "datagen = ImageDataGenerator(\n",
        "    rescale=1./255,\n",
        "    validation_split=0.2,\n",
        "    shear_range=0.2,\n",
        "    zoom_range=0.2,\n",
        "    horizontal_flip=True\n",
        ")\n",
        "\n",
        "train_generator = datagen.flow_from_directory(\n",
        "    training_path,  # Directorio de datos de entrenamiento\n",
        "    target_size=(224, 224),\n",
        "    batch_size=batch_size,\n",
        "    class_mode='binary',\n",
        "    subset='training'\n",
        ")\n",
        "\n",
        "\n",
        "validation_generator = datagen.flow_from_directory(\n",
        "    training_path,  # Directorio de datos de validación\n",
        "    target_size=(224, 224),\n",
        "    batch_size=batch_size,\n",
        "    class_mode='binary',\n",
        "    subset='validation'\n",
        ")\n",
        "\n",
        "if tf.config.list_physical_devices('GPU'):\n",
        "    print(\"GPU is available\")\n",
        "else:\n",
        "    print(\"Running on CPU\")\n",
        "\n",
        "# Paso 7: Entreno el modelo con transfer learning\n",
        "history = model.fit(train_generator, epochs=10, validation_data=validation_generator, callbacks=[checkpoint], initial_epoch=5)"
      ]
    },
    {
      "cell_type": "code",
      "execution_count": 7,
      "metadata": {
        "colab": {
          "base_uri": "https://localhost:8080/",
          "height": 393
        },
        "id": "wmb7VczXrqHM",
        "outputId": "5ac115cf-de51-42c1-890a-75c6cdd99271"
      },
      "outputs": [
        {
          "data": {
            "image/png": "[encoded data removed]",
            "text/plain": [
              "<Figure size 1200x400 with 1 Axes>"
            ]
          },
          "metadata": {},
          "output_type": "display_data"
        }
      ],
      "source": [
        "train_accuracy = history.history['accuracy']\n",
        "val_accuracy = history.history['val_accuracy']\n",
        "\n",
        "# Graficar las curvas de precisión\n",
        "plt.figure(figsize=(12, 4))\n",
        "plt.subplot(1, 2, 1)\n",
        "plt.plot(train_accuracy, label='Train Accuracy')\n",
        "plt.plot(val_accuracy, label='Validation Accuracy')\n",
        "plt.ylim(0, 1)\n",
        "plt.xlabel('Epochs')\n",
        "plt.ylabel('Accuracy')\n",
        "plt.legend()\n",
        "plt.show()"
      ]
    },
    {
      "cell_type": "code",
      "execution_count": 8,
      "metadata": {
        "id": "lsNLQgksTE7F"
      },
      "outputs": [
        {
          "name": "stdout",
          "output_type": "stream",
          "text": [
            "INFO:tensorflow:Assets written to: /content/drive/MyDrive/Saved_model_vgg\\assets\n"
          ]
        },
        {
          "name": "stderr",
          "output_type": "stream",
          "text": [
            "INFO:tensorflow:Assets written to: /content/drive/MyDrive/Saved_model_vgg\\assets\n"
          ]
        }
      ],
      "source": [
        "model.save('/content/drive/MyDrive/Saved_model_vgg', save_format='tf')"
      ]
    },
    {
      "cell_type": "code",
      "execution_count": 9,
      "metadata": {
        "id": "5uzKPKBMZuD7"
      },
      "outputs": [
        {
          "name": "stdout",
          "output_type": "stream",
          "text": [
            "WARNING:tensorflow:From C:\\Users\\Luli Santacruz\\AppData\\Local\\Packages\\PythonSoftwareFoundation.Python.3.11_qbz5n2kfra8p0\\LocalCache\\local-packages\\Python311\\site-packages\\keras\\src\\saving\\legacy\\saved_model\\load.py:107: The name tf.gfile.Exists is deprecated. Please use tf.io.gfile.exists instead.\n",
            "\n"
          ]
        },
        {
          "name": "stderr",
          "output_type": "stream",
          "text": [
            "WARNING:tensorflow:From C:\\Users\\Luli Santacruz\\AppData\\Local\\Packages\\PythonSoftwareFoundation.Python.3.11_qbz5n2kfra8p0\\LocalCache\\local-packages\\Python311\\site-packages\\keras\\src\\saving\\legacy\\saved_model\\load.py:107: The name tf.gfile.Exists is deprecated. Please use tf.io.gfile.exists instead.\n",
            "\n"
          ]
        }
      ],
      "source": [
        "modelo = load_model('/content/drive/MyDrive/Saved_model_vgg')\n",
        "#modelo.summary()"
      ]
    },
    {
      "cell_type": "code",
      "execution_count": 10,
      "metadata": {
        "id": "KrOA8bg8TE21"
      },
      "outputs": [],
      "source": [
        "model.save('/content/drive/MyDrive/mi_modelo.keras')\n"
      ]
    },
    {
      "cell_type": "code",
      "execution_count": 11,
      "metadata": {
        "id": "n7nqLLhzXr3m"
      },
      "outputs": [],
      "source": [
        "modelo_cargado = load_model('/content/drive/MyDrive/mi_modelo.keras')"
      ]
    },
    {
      "cell_type": "code",
      "execution_count": 12,
      "metadata": {
        "id": "Wop5NbdATEzE"
      },
      "outputs": [],
      "source": [
        "#Defino función de predicción\n",
        "def prediccion(modelo,imagen,treshold):\n",
        "\n",
        "    # Reshape para que coincida con el formato de entrada del modelo\n",
        "\n",
        "     nueva_altura = 224\n",
        "     nuevo_ancho = 224\n",
        "\n",
        "     h, w = imagen.shape[:2]\n",
        "\n",
        "    # Calcular el nuevo tamaño manteniendo la relación de aspecto original\n",
        "     if h < w:\n",
        "          nueva_altura_temp = int(nueva_altura * (h / w))\n",
        "          nuevo_ancho_temp = nuevo_ancho\n",
        "     else:\n",
        "          nueva_altura_temp = nueva_altura\n",
        "          nuevo_ancho_temp = int(nuevo_ancho * (w / h))\n",
        "\n",
        "     imagen_redimensionada = cv2.resize(imagen,(nuevo_ancho_temp , nueva_altura_temp))\n",
        "\n",
        "     imagen_redimensionada = imagen_redimensionada / 255.0\n",
        "\n",
        "     # Crear una imagen en blanco del tamaño objetivo\n",
        "     imagen_final = np.zeros((nueva_altura, nuevo_ancho, 3), dtype=np.uint8)\n",
        "\n",
        "     # Calcular las coordenadas para copiar la imagen redimensionada en el centro\n",
        "     y_offset = (nueva_altura - nueva_altura_temp) // 2\n",
        "     x_offset = (nuevo_ancho - nuevo_ancho_temp) // 2\n",
        "\n",
        "     # Copiar la región redimensionada en la ubicación calculada\n",
        "     imagen_final[y_offset:y_offset + nueva_altura_temp, x_offset:x_offset + nuevo_ancho_temp] = imagen_redimensionada\n",
        "\n",
        "     imagen_final = np.expand_dims(imagen_final, axis=0)\n",
        "\n",
        "\n",
        "     # Realizar predicciones\n",
        "     prediccion_imagen = modelo.predict(imagen_final)\n",
        "\n",
        "     if prediccion_imagen > treshold:\n",
        "          print(prediccion_imagen)\n",
        "          return \"La persona tiene sueño\"\n",
        "     else:\n",
        "          print(prediccion_imagen)\n",
        "          return \"La persona no tiene sueño\"\n",
        "\n"
      ]
    },
    {
      "cell_type": "code",
      "execution_count": 13,
      "metadata": {
        "colab": {
          "base_uri": "https://localhost:8080/",
          "height": 1000
        },
        "id": "zNCLkdYVTEv1",
        "outputId": "cd392fe9-37ee-4cab-e614-209727c95ebb"
      },
      "outputs": [
        {
          "ename": "FileNotFoundError",
          "evalue": "[WinError 3] El sistema no puede encontrar la ruta especificada: '/content/drive/My Drive/Imágenes de prueba/Con sueño'",
          "output_type": "error",
          "traceback": [
            "\u001b[1;31m---------------------------------------------------------------------------\u001b[0m",
            "\u001b[1;31mFileNotFoundError\u001b[0m                         Traceback (most recent call last)",
            "\u001b[1;32mf:\\Documentos\\UBA\\Nueva carpeta\\Vision_por_computadora_2\\TPVPC2_VGGNet.ipynb Cell 9\u001b[0m line \u001b[0;36m7\n\u001b[0;32m      <a href='vscode-notebook-cell:/f%3A/Documentos/UBA/Nueva%20carpeta/Vision_por_computadora_2/TPVPC2_VGGNet.ipynb#X11sZmlsZQ%3D%3D?line=3'>4</a>\u001b[0m directorio_drive \u001b[39m=\u001b[39m \u001b[39m'\u001b[39m\u001b[39m/content/drive/My Drive/Imágenes de prueba/Con sueño\u001b[39m\u001b[39m'\u001b[39m\n\u001b[0;32m      <a href='vscode-notebook-cell:/f%3A/Documentos/UBA/Nueva%20carpeta/Vision_por_computadora_2/TPVPC2_VGGNet.ipynb#X11sZmlsZQ%3D%3D?line=5'>6</a>\u001b[0m \u001b[39m# Obtener la lista de nombres de archivos en el directorio\u001b[39;00m\n\u001b[1;32m----> <a href='vscode-notebook-cell:/f%3A/Documentos/UBA/Nueva%20carpeta/Vision_por_computadora_2/TPVPC2_VGGNet.ipynb#X11sZmlsZQ%3D%3D?line=6'>7</a>\u001b[0m nombres_archivos \u001b[39m=\u001b[39m os\u001b[39m.\u001b[39;49mlistdir(directorio_drive)\n\u001b[0;32m      <a href='vscode-notebook-cell:/f%3A/Documentos/UBA/Nueva%20carpeta/Vision_por_computadora_2/TPVPC2_VGGNet.ipynb#X11sZmlsZQ%3D%3D?line=8'>9</a>\u001b[0m \u001b[39m# Filtrar solo los archivos de imagen (puedes ajustar según los tipos de archivos que tengas)\u001b[39;00m\n\u001b[0;32m     <a href='vscode-notebook-cell:/f%3A/Documentos/UBA/Nueva%20carpeta/Vision_por_computadora_2/TPVPC2_VGGNet.ipynb#X11sZmlsZQ%3D%3D?line=9'>10</a>\u001b[0m extensiones_imagen \u001b[39m=\u001b[39m [\u001b[39m'\u001b[39m\u001b[39m.jpg\u001b[39m\u001b[39m'\u001b[39m, \u001b[39m'\u001b[39m\u001b[39m.jpeg\u001b[39m\u001b[39m'\u001b[39m, \u001b[39m'\u001b[39m\u001b[39m.png\u001b[39m\u001b[39m'\u001b[39m]\n",
            "\u001b[1;31mFileNotFoundError\u001b[0m: [WinError 3] El sistema no puede encontrar la ruta especificada: '/content/drive/My Drive/Imágenes de prueba/Con sueño'"
          ]
        }
      ],
      "source": [
        "#Cargo imágenes a testear\n",
        "\n",
        "# Directorio en Google Drive que contiene las imágenes\n",
        "directorio_drive = '/content/drive/My Drive/Imágenes de prueba/Con sueño'\n",
        "\n",
        "# Obtener la lista de nombres de archivos en el directorio\n",
        "nombres_archivos = os.listdir(directorio_drive)\n",
        "\n",
        "# Filtrar solo los archivos de imagen (puedes ajustar según los tipos de archivos que tengas)\n",
        "extensiones_imagen = ['.jpg', '.jpeg', '.png']\n",
        "rutas_imagenes = [os.path.join(directorio_drive, archivo) for archivo in nombres_archivos if any(archivo.lower().endswith(ext) for ext in extensiones_imagen)]\n",
        "\n",
        "imagenes = [cv2.imread(ruta) for ruta in rutas_imagenes]\n",
        "\n",
        "#Realizo predicciones\n",
        "for imagen, ruta in zip(imagenes, rutas_imagenes):\n",
        "    # Realizar la predicción\n",
        "    pred = prediccion(model, imagen, 0.45)\n",
        "    # Mostrar la imagen con el resultado de la predicción\n",
        "    plt.imshow(cv2.cvtColor(imagen, cv2.COLOR_BGR2RGB))\n",
        "    plt.title(f'Predicción: {pred}')\n",
        "    plt.show()"
      ]
    },
    {
      "cell_type": "code",
      "execution_count": null,
      "metadata": {
        "id": "E7IQbYr7TEoi"
      },
      "outputs": [],
      "source": []
    },
    {
      "cell_type": "code",
      "execution_count": null,
      "metadata": {
        "id": "HeKehmgmTEkb"
      },
      "outputs": [],
      "source": []
    },
    {
      "cell_type": "code",
      "execution_count": null,
      "metadata": {
        "id": "SmKz_0dITEeW"
      },
      "outputs": [],
      "source": []
    },
    {
      "cell_type": "code",
      "execution_count": null,
      "metadata": {
        "id": "wy13ZYZzTEZd"
      },
      "outputs": [],
      "source": []
    }
  ],
  "metadata": {
    "colab": {
      "provenance": []
    },
    "kernelspec": {
      "display_name": "Python 3",
      "name": "python3"
    },
    "language_info": {
      "codemirror_mode": {
        "name": "ipython",
        "version": 3
      },
      "file_extension": ".py",
      "mimetype": "text/x-python",
      "name": "python",
      "nbconvert_exporter": "python",
      "pygments_lexer": "ipython3",
      "version": "3.11.6"
    }
  },
  "nbformat": 4,
  "nbformat_minor": 0
}
